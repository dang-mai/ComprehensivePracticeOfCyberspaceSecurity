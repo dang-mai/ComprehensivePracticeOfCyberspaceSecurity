{
 "cells": [
  {
   "cell_type": "code",
   "execution_count": null,
   "metadata": {},
   "outputs": [],
   "source": [
    "# N = 123456789011121314\n",
    "# n = N\n",
    "# last = int(RDF(sqrt(n)))\n",
    "# for i in range(2, last + 1):\n",
    "#     while (i < last + 1) and (n % i == 0):\n",
    "#         print(i)\n",
    "#         n //= i\n",
    "#         last = int(RDF(sqrt(n)))\n",
    "# print(n) # 4 min \n",
    "\n",
    "# N = 123456789011121314\n",
    "# n = N\n",
    "# last = int(RDF(sqrt(n)))\n",
    "# i = 2\n",
    "# while i < last + 1:\n",
    "#     while (i < last + 1) and (n % i == 0):\n",
    "#         print(i)\n",
    "#         n //= i\n",
    "#         last = int(RDF(sqrt(n)))\n",
    "#     i += 1\n",
    "# print(n) # 2 min\n",
    "\n",
    "def fact(n, i, last):\n",
    "    while (i < last + 1) and (n % i != 0):\n",
    "        i = i + 1\n",
    "    while (i < last + 1) and (n % i == 0):\n",
    "        print(i)\n",
    "        n //= i\n",
    "        last = int(RDF(sqrt(n)))\n",
    "    if (i > last):\n",
    "        print(n)\n",
    "        return\n",
    "    else:\n",
    "        fact(n, i + 1, last)\n",
    "# N = 123456789011121314\n",
    "N = 306116633122825106916047491910374116732637643679052793\n",
    "last = int(RDF(sqrt(N)))\n",
    "fact(N, 2, last) # 1 min"
   ]
  },
  {
   "cell_type": "code",
   "execution_count": null,
   "metadata": {},
   "outputs": [
    {
     "name": "stdout",
     "output_type": "stream",
     "text": [
      "2\n",
      "7\n",
      "8818342072222951\n",
      "7\n",
      "2\n",
      "8818342072222951\n",
      "2\n",
      "7\n",
      "8818342072222951\n"
     ]
    }
   ],
   "source": [
    "# N = 306116633122825106916047491910374116732637643679052793\n",
    "# # N = 123456789011121314\n",
    "# def findfactor(n):\n",
    "#     flag = 0\n",
    "#     for i in range(2, int(RDF(sqrt(n))) + 1):\n",
    "#         if n % i == 0:\n",
    "#             flag = 1\n",
    "#             findfactor(i)\n",
    "#             findfactor(n//i)\n",
    "#     if flag == 0:\n",
    "#         print(n)\n",
    "#         sys.stdout.flush\n",
    "# factor(N)\n",
    "\n",
    "# N = 306116633122825106916047491910374116732637643679052793\n",
    "N = 123456789011121314\n",
    "def findfactor(n):\n",
    "    flag = 0\n",
    "    for i in range(2, int(RDF(sqrt(n))) + 1):\n",
    "        if n % i == 0:\n",
    "            flag = 1\n",
    "            findfactor(i)\n",
    "            findfactor(n//i)\n",
    "        if flag:\n",
    "            break\n",
    "    if flag == 0:\n",
    "        print(n)\n",
    "        sys.stdout.flush\n",
    "findfactor(N)"
   ]
  },
  {
   "cell_type": "code",
   "execution_count": 4,
   "metadata": {},
   "outputs": [
    {
     "name": "stdout",
     "output_type": "stream",
     "text": [
      "586785645494935270664922071\n",
      "end\n"
     ]
    }
   ],
   "source": [
    "def factor_p_1(n, B):\n",
    "    a = 2\n",
    "    for j in range(2, B + 1):\n",
    "        a = power_mod(a, j, n)\n",
    "        d = gcd(a - 1, n)\n",
    "        if d > 1:\n",
    "            print(d)\n",
    "            return\n",
    "factor_p_1(306116633122825106916047491910374116732637643679052793, 10 ** 13)\n",
    "print('end')"
   ]
  },
  {
   "cell_type": "code",
   "execution_count": 10,
   "metadata": {},
   "outputs": [
    {
     "name": "stdout",
     "output_type": "stream",
     "text": [
      "4373709490148591\n",
      "4373709490148591\n",
      "7499264365248581\n",
      "4373709490148591\n",
      "7499264365248581\n",
      "4373709490148591\n",
      "4373709490148591\n"
     ]
    },
    {
     "ename": "KeyboardInterrupt",
     "evalue": "",
     "output_type": "error",
     "traceback": [
      "\u001b[0;31m---------------------------------------------------------------------------\u001b[0m",
      "\u001b[0;31mKeyboardInterrupt\u001b[0m                         Traceback (most recent call last)",
      "\u001b[0;32m<ipython-input-10-123568235a8f>\u001b[0m in \u001b[0;36m<module>\u001b[0;34m()\u001b[0m\n\u001b[1;32m     13\u001b[0m         \u001b[0mprint\u001b[0m\u001b[0;34m(\u001b[0m\u001b[0md\u001b[0m\u001b[0;34m)\u001b[0m\u001b[0;34m\u001b[0m\u001b[0;34m\u001b[0m\u001b[0m\n\u001b[1;32m     14\u001b[0m \u001b[0;32mwhile\u001b[0m \u001b[0mInteger\u001b[0m\u001b[0;34m(\u001b[0m\u001b[0;36m1\u001b[0m\u001b[0;34m)\u001b[0m\u001b[0;34m:\u001b[0m\u001b[0;34m\u001b[0m\u001b[0;34m\u001b[0m\u001b[0m\n\u001b[0;32m---> 15\u001b[0;31m     \u001b[0mfactor_rho\u001b[0m\u001b[0;34m(\u001b[0m\u001b[0mInteger\u001b[0m\u001b[0;34m(\u001b[0m\u001b[0;36m32799603723420868120030341899371\u001b[0m\u001b[0;34m)\u001b[0m\u001b[0;34m,\u001b[0m \u001b[0mrandom\u001b[0m\u001b[0;34m.\u001b[0m\u001b[0mrandint\u001b[0m\u001b[0;34m(\u001b[0m\u001b[0mInteger\u001b[0m\u001b[0;34m(\u001b[0m\u001b[0;36m1\u001b[0m\u001b[0;34m)\u001b[0m\u001b[0;34m,\u001b[0m \u001b[0mInteger\u001b[0m\u001b[0;34m(\u001b[0m\u001b[0;36m10\u001b[0m\u001b[0;34m)\u001b[0m \u001b[0;34m**\u001b[0m \u001b[0mInteger\u001b[0m\u001b[0;34m(\u001b[0m\u001b[0;36m6\u001b[0m\u001b[0;34m)\u001b[0m\u001b[0;34m)\u001b[0m\u001b[0;34m)\u001b[0m\u001b[0;34m\u001b[0m\u001b[0;34m\u001b[0m\u001b[0m\n\u001b[0m\u001b[1;32m     16\u001b[0m \u001b[0;31m# 306116633122825106916047491910374116732637643679052793\u001b[0m\u001b[0;34m\u001b[0m\u001b[0;34m\u001b[0m\u001b[0;34m\u001b[0m\u001b[0m\n\u001b[1;32m     17\u001b[0m \u001b[0mprint\u001b[0m\u001b[0;34m(\u001b[0m\u001b[0;34m'end'\u001b[0m\u001b[0;34m)\u001b[0m\u001b[0;34m\u001b[0m\u001b[0;34m\u001b[0m\u001b[0m\n",
      "\u001b[0;32m<ipython-input-10-123568235a8f>\u001b[0m in \u001b[0;36mfactor_rho\u001b[0;34m(n, a)\u001b[0m\n\u001b[1;32m      4\u001b[0m     \u001b[0md\u001b[0m \u001b[0;34m=\u001b[0m \u001b[0mgcd\u001b[0m\u001b[0;34m(\u001b[0m\u001b[0ma\u001b[0m \u001b[0;34m-\u001b[0m \u001b[0mb\u001b[0m\u001b[0;34m,\u001b[0m \u001b[0mn\u001b[0m\u001b[0;34m)\u001b[0m\u001b[0;34m\u001b[0m\u001b[0;34m\u001b[0m\u001b[0m\n\u001b[1;32m      5\u001b[0m     \u001b[0;32mwhile\u001b[0m \u001b[0md\u001b[0m \u001b[0;34m==\u001b[0m \u001b[0mInteger\u001b[0m\u001b[0;34m(\u001b[0m\u001b[0;36m1\u001b[0m\u001b[0;34m)\u001b[0m\u001b[0;34m:\u001b[0m\u001b[0;34m\u001b[0m\u001b[0;34m\u001b[0m\u001b[0m\n\u001b[0;32m----> 6\u001b[0;31m         \u001b[0ma\u001b[0m \u001b[0;34m=\u001b[0m \u001b[0;34m(\u001b[0m\u001b[0ma\u001b[0m \u001b[0;34m*\u001b[0m \u001b[0ma\u001b[0m \u001b[0;34m+\u001b[0m \u001b[0mInteger\u001b[0m\u001b[0;34m(\u001b[0m\u001b[0;36m1\u001b[0m\u001b[0;34m)\u001b[0m\u001b[0;34m)\u001b[0m \u001b[0;34m%\u001b[0m \u001b[0mn\u001b[0m\u001b[0;34m\u001b[0m\u001b[0;34m\u001b[0m\u001b[0m\n\u001b[0m\u001b[1;32m      7\u001b[0m         \u001b[0mb\u001b[0m \u001b[0;34m=\u001b[0m \u001b[0;34m(\u001b[0m\u001b[0mb\u001b[0m \u001b[0;34m*\u001b[0m \u001b[0mb\u001b[0m \u001b[0;34m+\u001b[0m \u001b[0mInteger\u001b[0m\u001b[0;34m(\u001b[0m\u001b[0;36m1\u001b[0m\u001b[0;34m)\u001b[0m\u001b[0;34m)\u001b[0m \u001b[0;34m%\u001b[0m \u001b[0mn\u001b[0m\u001b[0;34m\u001b[0m\u001b[0;34m\u001b[0m\u001b[0m\n\u001b[1;32m      8\u001b[0m         \u001b[0mb\u001b[0m \u001b[0;34m=\u001b[0m \u001b[0;34m(\u001b[0m\u001b[0mb\u001b[0m \u001b[0;34m*\u001b[0m \u001b[0mb\u001b[0m \u001b[0;34m+\u001b[0m \u001b[0mInteger\u001b[0m\u001b[0;34m(\u001b[0m\u001b[0;36m1\u001b[0m\u001b[0;34m)\u001b[0m\u001b[0;34m)\u001b[0m \u001b[0;34m%\u001b[0m \u001b[0mn\u001b[0m\u001b[0;34m\u001b[0m\u001b[0;34m\u001b[0m\u001b[0m\n",
      "\u001b[0;32msrc/cysignals/signals.pyx\u001b[0m in \u001b[0;36mcysignals.signals.python_check_interrupt\u001b[0;34m()\u001b[0m\n",
      "\u001b[0;31mKeyboardInterrupt\u001b[0m: "
     ]
    }
   ],
   "source": [
    "import random\n",
    "def factor_rho(n, a):\n",
    "    b = (a * a + 1) % n\n",
    "    d = gcd(a - b, n)\n",
    "    while d == 1:\n",
    "        a = (a * a + 1) % n\n",
    "        b = (b * b + 1) % n\n",
    "        b = (b * b + 1) % n\n",
    "        d = gcd(a - b, n)\n",
    "    if d == n:\n",
    "        print('fail')\n",
    "    else:\n",
    "        print(d)\n",
    "while 1:\n",
    "    factor_rho(32799603723420868120030341899371, random.randint(1, 10 ** 6))\n",
    "# 306116633122825106916047491910374116732637643679052793\n",
    "print('end')"
   ]
  },
  {
   "cell_type": "code",
   "execution_count": 11,
   "metadata": {},
   "outputs": [
    {
     "data": {
      "text/plain": [
       "4373709490148591 * 7499264365248581"
      ]
     },
     "execution_count": 11,
     "metadata": {},
     "output_type": "execute_result"
    }
   ],
   "source": [
    "factor(32799603723420868120030341899371)"
   ]
  },
  {
   "cell_type": "code",
   "execution_count": 7,
   "metadata": {},
   "outputs": [
    {
     "data": {
      "text/plain": [
       "521683915537206669358967983"
      ]
     },
     "execution_count": 7,
     "metadata": {},
     "output_type": "execute_result"
    }
   ],
   "source": [
    "306116633122825106916047491910374116732637643679052793/586785645494935270664922071"
   ]
  },
  {
   "cell_type": "code",
   "execution_count": null,
   "metadata": {},
   "outputs": [],
   "source": []
  }
 ],
 "metadata": {
  "kernelspec": {
   "display_name": "SageMath 9.1",
   "language": "sage",
   "name": "sagemath"
  },
  "language_info": {
   "codemirror_mode": {
    "name": "ipython",
    "version": 3
   },
   "file_extension": ".py",
   "mimetype": "text/x-python",
   "name": "python",
   "nbconvert_exporter": "python",
   "pygments_lexer": "ipython3",
   "version": "3.7.3"
  }
 },
 "nbformat": 4,
 "nbformat_minor": 2
}
